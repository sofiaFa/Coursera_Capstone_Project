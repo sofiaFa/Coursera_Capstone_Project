{
 "cells": [
  {
   "cell_type": "markdown",
   "metadata": {},
   "source": [
    "# How does London vote?\n",
    "\n",
    "by  Sofia Faqir\n",
    "***\n",
    "<p><a href=\"#Problem\"> 1. Problem and Background </a></p>\n",
    "<p><a href=\"#Data\"> 2. Data gathering </a></p>\n",
    "<p><a href=\"#Use\"> 3. How to use the data? </a></p>\n",
    "\n",
    "***"
   ]
  },
  {
   "cell_type": "markdown",
   "metadata": {},
   "source": [
    "***\n",
    "<h2 id=\"Problem\">1. Problem and Background</h2>\n",
    "\n",
    "British people have been called to the polling booths many times in recent years: Brexit Referendum, general elections, early general elections, mayoral elections, local elections etc. Voter fatigue has been increasing, which makes it even more important to understand where it is worth spending more energy (and money) canvassing and campaigning.\n",
    "\n",
    "The Greater London area has 73 parliamentary constituencies, while the UK as a whole has 650 constituencies. Wards constitute the “building blocks” (according to “Boundary Commission for England”).\n",
    "Understanding what drives a constituency to vote for a certain party can be helpful in many ways.\n",
    "First, the boundaries of constituencies are regularly reviewed and amended to be fairer and more equal. This is a subjective measure, and should be tested against a range of innovative ways to make sure the governing party is not taking through boundaries more favourable to them.\n",
    "Second, campaign optimization can be empowered by data science. This is particularly relevant because of the rising costs of campaigns (and the multiplication of votes…).\n",
    "\n",
    "Here, the question that I will ask is:\n",
    "Using the results for the General Elections of 2017, can the data on venues in a specific constituency help predict how they will vote?\n",
    "\n",
    "This can be opened up to ward level, for local or parliamentary elections, as well as for other big questions like Brexit.\n",
    "It can also be extended to the rest of the UK.\n"
   ]
  },
  {
   "cell_type": "markdown",
   "metadata": {},
   "source": [
    "***\n",
    "<h2 id=\"Data\">2. Data gathering</h2>\n",
    "\n",
    "The British government has clearly made a big effort in transparency and opened many sources of data that are readily available and easily accessible. \n",
    "However, the data needed a fair amount of reworking to make it usable for my objective.\n",
    "\n",
    "For the purpose of this project, I will need a set of data: \n",
    "\n",
    "1. List of constituencies and the party that they have elected: \n",
    "\n",
    "The data on the General Elections of 2017 is available on London Datastore, which \"has been created by the Greater London Authority (GLA) as a first step towards freeing London’s data\":\n",
    "https://data.london.gov.uk/download/general-election-results-2017/26ee40ae-becf-4839-bb0c-509024e61bfd/2017%20General%20Election%20Results.xls\n",
    "\n",
    "2. List of wards belonging to each constituency:\n",
    "\n",
    "I need the ward level to increase the granularity when compiling the list of venues in a constituency. Constituencies are fairly large areas, and hence would require more work to drill down the data.\n",
    "\n",
    "The better way is to use Ordnance Survey Open Data, but this was too involved for this.\n",
    "I resorted to scraping the website: https://www.electoralcalculus.co.uk/ which had the list of wards for each constituency, and more data…\n",
    "\n",
    "3. The coordinates of each ward.\n",
    "\n",
    "The coordinates for all the wards in England are recorded here:\n",
    "http://geoportal.statistics.gov.uk/datasets/07194e4507ae491488471c84b23a90f2_0\n",
    "It included the ward code, the ward name, the longitude and latitude of the ward.\n",
    "\n",
    "However, the same name applies to different wards (in different constituencies). Luckily, within a constituency, ward names were unique, so the couple constituency/ward was in fact unique. To get the list of ward codes, I resorted to using the data here & process it further in excel:\n",
    "https://data.london.gov.uk/download/excel-mapping-template-for-london-boroughs-and-wards/58f59b22-946e-43e9-96fd-c0a4fa27f76a/Mapping-template-for-London-boroughs.xls\n",
    "\n",
    "4. The venues that surround each ward, and hence the venues in a certain constituency.\n",
    "\n",
    "We will be calling the FourSquare API for this purpose.\n",
    "\n",
    "At the end of the data filtering I will have the following data:\n",
    "* Constituency\n",
    "* Ward\n",
    "* Unique Couple: Constiuency/Ward\n",
    "* Ward coordinates\n",
    "* Venues: in the relevant ward, together with coordinates, and venue category.\n",
    "* Party elected at the last General elections"
   ]
  },
  {
   "cell_type": "markdown",
   "metadata": {},
   "source": [
    "***\n",
    "***\n",
    "<h2 id=\"Use\">3. How to use the data?</h2>"
   ]
  },
  {
   "cell_type": "markdown",
   "metadata": {},
   "source": [
    "I will be using classification techniques, like clustering or decision trees on a subset of data.\n",
    "I will then check how good my results are, and if there is a clear voting pattern.\n",
    "\n",
    "There are a few avenues that I will be exploring, for example:\n",
    "* Number of venues in any given constituency\n",
    "* Clustering as a function of the venues in the constituency"
   ]
  },
  {
   "cell_type": "markdown",
   "metadata": {},
   "source": [
    "***"
   ]
  },
  {
   "cell_type": "markdown",
   "metadata": {},
   "source": [
    "## 4. Methodology"
   ]
  },
  {
   "cell_type": "markdown",
   "metadata": {},
   "source": [
    "### 4.1. Data gathering and preprocessing\n",
    "\n",
    "As previously mentioned, a fair amount of data is readily and freely available on Internet, from reliable governmental sources. \n",
    "It was however challenging to sift through all the websites, and assemble data with differing formats.\n",
    "\n",
    "**a. The election results per constituency:**\n",
    "\n",
    "The data in the csv file was for the whole of England, and included election results within each constituency at party level. \n",
    "I limited the selection to London region, and to the winning party. I dropped all quantitative data on the election results.\n",
    "I obtained the following: \n",
    "\n",
    "<img src='df_elect2.PNG'>\n",
    "\n",
    "**b. The list of wards per constituency:**\n",
    "\n",
    "This require scraping the website https://www.electoralcalculus.co.uk/.\n",
    "Extract of the table that I put together:\n",
    "\n",
    "<img src='Ward per Constit.PNG'>\n",
    "\n",
    "After checking the data, it seems that ward names are not  sufficient to determine the location since there are duplicates.\n",
    "\n",
    "I worked on excel and I used the data in the below file to get the **geocode of each ward**, so that I can get the longitude/latitude from a file including all the coordinates of all the wards in the UK.\n",
    "https://londondatastore-upload.s3.amazonaws.com/dataset/excel-mapping-template-for-london-boroughs-and-wards/Mapping-template-london-ward-map-2014.xls\n",
    "\n",
    "I put together a **csv file** with that information, and also decreased the number of wards in the city london which was disproportionately large, to avoid skewing the results too much.\n",
    "\n",
    "The file is: 'GeoCode_wards_Constit.csv'\n",
    "\n",
    "<img src='Ward per Constit2.PNG'>\n",
    "\n",
    "**c. Getting the coordinates of each ward**\n",
    "\n",
    "The list of coordinates for all the wards using the geocode were available on this website:\n",
    "https://opendata.arcgis.com/datasets/07194e4507ae491488471c84b23a90f2_0.csv\n",
    "\n",
    "With further processing, the coordinates of each ward per constituency was ready:\n",
    "\n",
    "<img src='Ldn ward coord.PNG'>\n",
    "\n",
    "**d. The venues from FourSquare**\n",
    "\n",
    "I downloaded from FourSquare the venues surrounding each ward.\n",
    "Limit was 100 venues, in a radius of 500m.\n",
    "\n",
    "I only kept the venue name, its category and its coordinates.\n",
    "\n",
    "The resulting table included 12310 rows and was as follows:\n",
    "\n",
    "<img src='venues.PNG'>\n",
    "\n",
    "***\n",
    "***"
   ]
  },
  {
   "cell_type": "markdown",
   "metadata": {},
   "source": [
    "### 4.2. Data Visualization\n"
   ]
  },
  {
   "cell_type": "markdown",
   "metadata": {},
   "source": [
    "To get a better sense of what we are playing with, it is nice to visualize the data in maps: \n",
    "\n",
    "**Map showing the wards, each constituency has a different color**\n",
    "\n",
    "<img src='map_wards_constit.PNG'>\n",
    "\n",
    "**Map showing the wards,red is Labour, blue is Tory, yellow is Lib Dem**\n",
    "\n",
    "<img src='map_wards_party.PNG'>\n",
    "\n"
   ]
  },
  {
   "cell_type": "markdown",
   "metadata": {},
   "source": [
    "## References and sources:\n",
    "\n",
    "London Data Store: https://data.london.gov.uk/\n",
    "\n",
    "Electoral Calculus, by Martin Baxter: https://www.electoralcalculus.co.uk/\n",
    "\n",
    "Open Geography Portal, Office for National Statistics : http://geoportal.statistics.gov.uk/\n",
    "\n",
    "The London Datastore, by the Greater London Authority (GLA) : https://data.london.gov.uk/\n",
    "\n",
    "Boundary Commission for England: https://boundarycommissionforengland.independent.gov.uk/"
   ]
  }
 ],
 "metadata": {
  "kernelspec": {
   "display_name": "Python 3",
   "language": "python",
   "name": "python3"
  },
  "language_info": {
   "codemirror_mode": {
    "name": "ipython",
    "version": 3
   },
   "file_extension": ".py",
   "mimetype": "text/x-python",
   "name": "python",
   "nbconvert_exporter": "python",
   "pygments_lexer": "ipython3",
   "version": "3.6.8"
  }
 },
 "nbformat": 4,
 "nbformat_minor": 2
}
